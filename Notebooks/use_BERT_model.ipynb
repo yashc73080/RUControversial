{
 "cells": [
  {
   "cell_type": "code",
   "execution_count": 5,
   "id": "e07cb13d",
   "metadata": {},
   "outputs": [],
   "source": [
    "import torch\n",
    "import torch.nn.functional as F \n",
    "from transformers import AutoTokenizer\n",
    "\n",
    "import sys\n",
    "sys.path.append(\"..\")\n",
    "\n",
    "from bert_model import load_bert_model, predict_with_model"
   ]
  },
  {
   "cell_type": "code",
   "execution_count": 7,
   "id": "bea4bf81",
   "metadata": {},
   "outputs": [
    {
     "name": "stdout",
     "output_type": "stream",
     "text": [
      "Loaded model: microsoft/deberta-v3-small\n"
     ]
    },
    {
     "name": "stderr",
     "output_type": "stream",
     "text": [
      "c:\\Users\\bchen\\anaconda3\\envs\\cs439\\Lib\\site-packages\\transformers\\convert_slow_tokenizer.py:561: UserWarning: The sentencepiece tokenizer that you are converting to a fast tokenizer uses the byte fallback option which is not implemented in the fast tokenizers. In practice this means that the fast version of the tokenizer can produce unknown tokens whereas the sentencepiece version would have converted these unknown tokens into a sequence of byte tokens matching the original piece of text.\n",
      "  warnings.warn(\n"
     ]
    }
   ],
   "source": [
    "# Load the model\n",
    "model = load_bert_model('../final_aita_model.pth')"
   ]
  },
  {
   "cell_type": "code",
   "execution_count": 11,
   "id": "8e88004d",
   "metadata": {},
   "outputs": [
    {
     "name": "stdout",
     "output_type": "stream",
     "text": [
      "{'verdict': 'not the asshole', 'confidence': 0.2760055959224701, 'class_probabilities': {'asshole': 0.24640245735645294, 'everyone sucks': 0.21397235989570618, 'no assholes here': 0.263619601726532, 'not the asshole': 0.2760055959224701}}\n"
     ]
    }
   ],
   "source": [
    "post1 = '''AITA for telling my stepson that we will not be providing him with free childcare and housing?\n",
    "I (38F) have 3 stepsons, they are all adults (late teens-mid twenties). The one this concerns is middle child. He sat my husband (42) and I down last night and told us that his girlfriend is pregnant and they do plan on keeping the baby. We got into logistics of how that's going to work because they live with her mom right now in her living room. He said that they won't be able to stay with her once the baby is born.\n",
    "\n",
    "This is where he said that they plan on moving in with us. As a statement. We do not have any free rooms, so I asked where they expected to stay? He said we can finish the basement before the baby is born and they will live down there. The basement is completely unfinished. Making it a livable space would cost several THOUSANDS of dollars - which we don't have.\n",
    "\n",
    "He said it would just be until the baby reaches pre-school age and then it will be easier for them to live on their own since they wouldn't need the full time childcare. What childcare?? Me apparently. I'm childcare. I do work from home, but it is very much WORK. I spend 75% of my day in meetings or on phone calls with clients, it is not a job I can do with a baby. I'll admit, not my finest moment, but I laughed. Hard. Because I couldn't believe he was being serious.\n",
    "\n",
    "My husband stepped in and said he needed to come up with a different plan because none of that was happening. He said that we can help financially to secure an apartment. We can help with baby stuff. We will be happy to take the baby when they need a break - but that's the extent. It wasn't a happy parting at the end, but my husband and I are on the same page.\n",
    "\n",
    "A couple hours later my husband got a call from his ex. She was upset at both of us for not supporting them the way they felt they needed us to. Bear in mind, she can't watch the baby or house them either because she lives in a 1 bed apartment with her on again/off again husband who does not like the kids and does not allow them to even come over to see her. Hubby told her that now would be a great time for her and son/DIL to get a place together - then she can take care of the baby and they'll have a place to live. Which of course, she didn't like.\n",
    "\n",
    "We don't really care what she thinks, but our oldest has said that he thinks it's a little harsh that we won't let them stay here temporarily (it wouldn't be temporary. Her mom's living room was supposed to be temporary 2 years ago.) and he doesn't think it was nice that i laughed during a serious discussion, which is fair. The youngest is on our side,but he lives at home when he's not away at college and he doesn't want to live with a baby either, so he's a little biased.\n",
    "\n",
    "Are we assholes here? I do feel bad, it isn't going to be easy - but being a parent is never easy. Hell, that's the whole point of this freaking post, our kids are grown and it's STILL hard to be a parent. We'd love some outside insight.'''\n",
    "\n",
    "# https://www.reddit.com/r/AmItheAsshole/comments/1kh2qmv/aita_for_telling_my_stepson_that_we_will_not_be/\n",
    "\n",
    "prediction1 = predict_with_model(post1, model)\n",
    "print(prediction1)"
   ]
  }
 ],
 "metadata": {
  "kernelspec": {
   "display_name": "cs439",
   "language": "python",
   "name": "python3"
  },
  "language_info": {
   "codemirror_mode": {
    "name": "ipython",
    "version": 3
   },
   "file_extension": ".py",
   "mimetype": "text/x-python",
   "name": "python",
   "nbconvert_exporter": "python",
   "pygments_lexer": "ipython3",
   "version": "3.11.11"
  }
 },
 "nbformat": 4,
 "nbformat_minor": 5
}
