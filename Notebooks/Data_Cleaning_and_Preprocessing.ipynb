{
 "cells": [
  {
   "cell_type": "markdown",
   "id": "9dea4277",
   "metadata": {},
   "source": [
    "## Data Cleaning and Preprocessing"
   ]
  },
  {
   "cell_type": "markdown",
   "id": "6b53b47e",
   "metadata": {},
   "source": [
    "In this notebook, we process our data in aita_posts.csv so that it can be fed to our BERT model"
   ]
  },
  {
   "cell_type": "markdown",
   "id": "5be9e412",
   "metadata": {},
   "source": []
  }
 ],
 "metadata": {
  "kernelspec": {
   "display_name": "Python 3",
   "language": "python",
   "name": "python3"
  },
  "language_info": {
   "name": "python",
   "version": "3.12.5"
  }
 },
 "nbformat": 4,
 "nbformat_minor": 5
}
