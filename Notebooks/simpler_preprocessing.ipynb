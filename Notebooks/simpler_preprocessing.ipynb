{
 "cells": [
  {
   "cell_type": "code",
   "execution_count": 9,
   "id": "12d4cc3d",
   "metadata": {},
   "outputs": [],
   "source": [
    "import pandas as pd"
   ]
  },
  {
   "cell_type": "code",
   "execution_count": 10,
   "id": "c13c146e",
   "metadata": {},
   "outputs": [],
   "source": [
    "df = pd.read_csv('../Data/aita_clean.csv')"
   ]
  },
  {
   "cell_type": "code",
   "execution_count": 12,
   "id": "669c502e",
   "metadata": {},
   "outputs": [],
   "source": [
    "df.drop(columns=['timestamp', 'edited'], inplace=True)"
   ]
  },
  {
   "cell_type": "code",
   "execution_count": 14,
   "id": "87d5d8bf",
   "metadata": {},
   "outputs": [],
   "source": [
    "df['combined_text'] = df['title'] + ' ' + df['body']"
   ]
  },
  {
   "cell_type": "code",
   "execution_count": 16,
   "id": "85085a17",
   "metadata": {},
   "outputs": [],
   "source": [
    "df = df[:20000]"
   ]
  },
  {
   "cell_type": "code",
   "execution_count": 18,
   "id": "2a15a0fe",
   "metadata": {},
   "outputs": [
    {
     "data": {
      "text/html": [
       "<div>\n",
       "<style scoped>\n",
       "    .dataframe tbody tr th:only-of-type {\n",
       "        vertical-align: middle;\n",
       "    }\n",
       "\n",
       "    .dataframe tbody tr th {\n",
       "        vertical-align: top;\n",
       "    }\n",
       "\n",
       "    .dataframe thead th {\n",
       "        text-align: right;\n",
       "    }\n",
       "</style>\n",
       "<table border=\"1\" class=\"dataframe\">\n",
       "  <thead>\n",
       "    <tr style=\"text-align: right;\">\n",
       "      <th></th>\n",
       "      <th>id</th>\n",
       "      <th>title</th>\n",
       "      <th>body</th>\n",
       "      <th>verdict</th>\n",
       "      <th>score</th>\n",
       "      <th>num_comments</th>\n",
       "      <th>is_asshole</th>\n",
       "      <th>combined_text</th>\n",
       "    </tr>\n",
       "  </thead>\n",
       "  <tbody>\n",
       "    <tr>\n",
       "      <th>0</th>\n",
       "      <td>1ytxov</td>\n",
       "      <td>[AITA] I wrote an explanation in TIL and came ...</td>\n",
       "      <td>[Here is the post in question](http://www.redd...</td>\n",
       "      <td>asshole</td>\n",
       "      <td>52</td>\n",
       "      <td>13.0</td>\n",
       "      <td>1</td>\n",
       "      <td>[AITA] I wrote an explanation in TIL and came ...</td>\n",
       "    </tr>\n",
       "    <tr>\n",
       "      <th>1</th>\n",
       "      <td>1yu29c</td>\n",
       "      <td>[AITA] Threw my parent's donuts away</td>\n",
       "      <td>My parents are diabetic, morbidly obese, and a...</td>\n",
       "      <td>asshole</td>\n",
       "      <td>140</td>\n",
       "      <td>27.0</td>\n",
       "      <td>1</td>\n",
       "      <td>[AITA] Threw my parent's donuts away My parent...</td>\n",
       "    </tr>\n",
       "    <tr>\n",
       "      <th>2</th>\n",
       "      <td>1yu8hi</td>\n",
       "      <td>I told a goth girl she looked like a clown.</td>\n",
       "      <td>I was four.</td>\n",
       "      <td>not the asshole</td>\n",
       "      <td>74</td>\n",
       "      <td>15.0</td>\n",
       "      <td>0</td>\n",
       "      <td>I told a goth girl she looked like a clown. I ...</td>\n",
       "    </tr>\n",
       "    <tr>\n",
       "      <th>3</th>\n",
       "      <td>1yuc78</td>\n",
       "      <td>[AItA]: Argument I had with another redditor i...</td>\n",
       "      <td>http://www.reddit.com/r/HIMYM/comments/1vvfkq/...</td>\n",
       "      <td>everyone sucks</td>\n",
       "      <td>22</td>\n",
       "      <td>3.0</td>\n",
       "      <td>1</td>\n",
       "      <td>[AItA]: Argument I had with another redditor i...</td>\n",
       "    </tr>\n",
       "    <tr>\n",
       "      <th>4</th>\n",
       "      <td>1yueqb</td>\n",
       "      <td>[AITA] I let my story get a little long and bo...</td>\n",
       "      <td>NaN</td>\n",
       "      <td>not the asshole</td>\n",
       "      <td>6</td>\n",
       "      <td>4.0</td>\n",
       "      <td>0</td>\n",
       "      <td>NaN</td>\n",
       "    </tr>\n",
       "  </tbody>\n",
       "</table>\n",
       "</div>"
      ],
      "text/plain": [
       "       id                                              title  \\\n",
       "0  1ytxov  [AITA] I wrote an explanation in TIL and came ...   \n",
       "1  1yu29c               [AITA] Threw my parent's donuts away   \n",
       "2  1yu8hi        I told a goth girl she looked like a clown.   \n",
       "3  1yuc78  [AItA]: Argument I had with another redditor i...   \n",
       "4  1yueqb  [AITA] I let my story get a little long and bo...   \n",
       "\n",
       "                                                body          verdict  score  \\\n",
       "0  [Here is the post in question](http://www.redd...          asshole     52   \n",
       "1  My parents are diabetic, morbidly obese, and a...          asshole    140   \n",
       "2                                        I was four.  not the asshole     74   \n",
       "3  http://www.reddit.com/r/HIMYM/comments/1vvfkq/...   everyone sucks     22   \n",
       "4                                                NaN  not the asshole      6   \n",
       "\n",
       "   num_comments  is_asshole                                      combined_text  \n",
       "0          13.0           1  [AITA] I wrote an explanation in TIL and came ...  \n",
       "1          27.0           1  [AITA] Threw my parent's donuts away My parent...  \n",
       "2          15.0           0  I told a goth girl she looked like a clown. I ...  \n",
       "3           3.0           1  [AItA]: Argument I had with another redditor i...  \n",
       "4           4.0           0                                                NaN  "
      ]
     },
     "execution_count": 18,
     "metadata": {},
     "output_type": "execute_result"
    }
   ],
   "source": [
    "df.head()"
   ]
  },
  {
   "cell_type": "code",
   "execution_count": 19,
   "id": "70251085",
   "metadata": {},
   "outputs": [
    {
     "name": "stdout",
     "output_type": "stream",
     "text": [
      "Field 'combined_text' added and CSV updated successfully!\n"
     ]
    }
   ],
   "source": [
    "df.to_csv('../Data/aita_posts.csv', index=False)\n",
    "\n",
    "print(\"Field 'combined_text' added and CSV updated successfully!\")"
   ]
  },
  {
   "cell_type": "code",
   "execution_count": 22,
   "id": "88003d1c",
   "metadata": {},
   "outputs": [],
   "source": [
    "df[:4000].to_csv('../Data/aita_posts1.csv', index=False)\n",
    "df[4001:8000].to_csv('../Data/aita_posts2.csv', index=False)\n",
    "df[8001:12000].to_csv('../Data/aita_posts3.csv', index=False)\n",
    "df[12001:16000].to_csv('../Data/aita_posts4.csv', index=False)\n",
    "df[16001:20000].to_csv('../Data/aita_posts5.csv', index=False)"
   ]
  }
 ],
 "metadata": {
  "kernelspec": {
   "display_name": "cs439",
   "language": "python",
   "name": "python3"
  },
  "language_info": {
   "codemirror_mode": {
    "name": "ipython",
    "version": 3
   },
   "file_extension": ".py",
   "mimetype": "text/x-python",
   "name": "python",
   "nbconvert_exporter": "python",
   "pygments_lexer": "ipython3",
   "version": "3.11.11"
  }
 },
 "nbformat": 4,
 "nbformat_minor": 5
}
